{
 "cells": [
  {
   "cell_type": "markdown",
   "id": "8bb069be",
   "metadata": {},
   "source": [
    "# **Calculator APP**\n",
    "*Covers basic operations, functions and user input*\n",
    "\n",
    "A calculator app that performs basic arithmetic operations such as addition, subtraction, multiplication, and division. The program will take user input for numbers and operations, process the calculation, and display the result. It will also handle invalid inputs and division by zero errors."
   ]
  },
  {
   "cell_type": "code",
   "execution_count": 1,
   "id": "3474ae5d",
   "metadata": {},
   "outputs": [
    {
     "name": "stdout",
     "output_type": "stream",
     "text": [
      "My Calculator\n",
      "Operations: +, -, *, /, exit\n",
      "Result: 5.0\n",
      "My Calculator\n",
      "Operations: +, -, *, /, exit\n",
      "Result: You cannot divide by Zero!\n",
      "My Calculator\n",
      "Operations: +, -, *, /, exit\n",
      "Result: 0.5\n",
      "My Calculator\n",
      "Operations: +, -, *, /, exit\n",
      "Result: 0.5\n",
      "My Calculator\n",
      "Operations: +, -, *, /, exit\n",
      "Exiting the calculator. Goodbye!\n"
     ]
    }
   ],
   "source": [
    "def add(a,b):\n",
    "  return a+b\n",
    "\n",
    "def subtract(a,b):\n",
    "  return a-b\n",
    "\n",
    "def multiply(a,b):\n",
    "  return a*b\n",
    "\n",
    "def divide(a,b):\n",
    "  try:\n",
    "    return a/b\n",
    "  except ZeroDivisionError:\n",
    "    return \"You cannot divide by Zero!\"\n",
    "\n",
    "def calculator():\n",
    "  while True:\n",
    "    print(\"My Calculator\")\n",
    "    print(\"Operations: +, -, *, /, exit\")\n",
    "    choice=input(\"Enter the operation or 'exit' to quit: \")\n",
    "\n",
    "    if choice.lower()=='exit':\n",
    "      print(\"Exiting the calculator. Goodbye!\")\n",
    "      break\n",
    "\n",
    "    if choice not in ['+','-','*','/']:\n",
    "      print(\"Invalid Operation, Please try again!\")\n",
    "      continue\n",
    "\n",
    "    try:\n",
    "      num1=float(input(\"Enter the first number: \"))\n",
    "      num2=float(input(\"Enter the second number: \"))\n",
    "    except ValueError:\n",
    "      print(\"Invalid input. Please a numeric value.\")\n",
    "      continue\n",
    "\n",
    "    if choice=='+':\n",
    "      result=add(num1,num2)\n",
    "    elif choice=='-':\n",
    "      result=subtract(num1,num2)\n",
    "    elif choice=='*':\n",
    "      result=multiply(num1,num2)\n",
    "    elif choice=='/':\n",
    "      result=divide(num1,num2)\n",
    "    print(f\"Result: {result}\")\n",
    "\n",
    "calculator()\n"
   ]
  }
 ],
 "metadata": {
  "kernelspec": {
   "display_name": "Python 3",
   "language": "python",
   "name": "python3"
  },
  "language_info": {
   "codemirror_mode": {
    "name": "ipython",
    "version": 3
   },
   "file_extension": ".py",
   "mimetype": "text/x-python",
   "name": "python",
   "nbconvert_exporter": "python",
   "pygments_lexer": "ipython3",
   "version": "3.10.11"
  }
 },
 "nbformat": 4,
 "nbformat_minor": 5
}
