{
 "cells": [
  {
   "cell_type": "markdown",
   "metadata": {},
   "source": [
    "# **Number Guessing Game**\n",
    "\n",
    "*Implements loops, conditionals and random modules*\n",
    "\n",
    "This is a simple game where the program randomly selects a number, and the user has to guess it. After each guess, the program provides feedback:\n",
    "\n",
    "* If the guess is too high, it tells the user to guess lower.\n",
    "\n",
    "* If the guess is too low, it tells the user to guess higher.\n",
    "\n",
    "* The game continues until the user guesses correctly.\n",
    "\n",
    "The program should also keep track of the number of attempts and display it when the user wins.\n",
    "\n"
   ]
  },
  {
   "cell_type": "code",
   "execution_count": 2,
   "metadata": {},
   "outputs": [
    {
     "name": "stdout",
     "output_type": "stream",
     "text": [
      "Too high, please try again.\n",
      "Too low, please try again.\n",
      "Too low, please try again.\n",
      "Too high, please try again.\n",
      "Too low, please try again.\n",
      "Too high, please try again.\n",
      "Too low, please try again.\n",
      "Too low, please try again.\n",
      "Too low, please try again.\n",
      "Too low, please try again.\n",
      "Congratulations! You guessed the correct number!\n",
      "Number of attempts: 11\n"
     ]
    }
   ],
   "source": [
    "import random\n",
    "\n",
    "def number_guessing_game():\n",
    "  try:\n",
    "    start=int(input(\"Enter the lowest value: \"))\n",
    "    end=int(input(\"Enter the highest value: \"))\n",
    "  except ValueError:\n",
    "    print(\"Invalide Input. Please Enter a valid number\")\n",
    "    return\n",
    "\n",
    "\n",
    "  secret_number=random.randint(start,end)\n",
    "\n",
    "  attempts=0\n",
    "  while True:\n",
    "    try:\n",
    "      guessed=int(input(\"Enter your guessed number\"))\n",
    "      attempts+=1\n",
    "\n",
    "      if guessed>secret_number:\n",
    "        print(\"Too high, please try again.\")\n",
    "      elif guessed<secret_number:\n",
    "        print(\"Too low, please try again.\")\n",
    "      else:\n",
    "        print(\"Congratulations! You guessed the correct number!\")\n",
    "        print(f\"Number of attempts: {attempts}\")\n",
    "        break\n",
    "    except ValueError:\n",
    "      print(\"Invalid input. Please enter a valid number.\")\n",
    "\n",
    "number_guessing_game()\n"
   ]
  },
  {
   "cell_type": "code",
   "execution_count": null,
   "metadata": {},
   "outputs": [],
   "source": []
  }
 ],
 "metadata": {
  "kernelspec": {
   "display_name": "Python 3",
   "language": "python",
   "name": "python3"
  },
  "language_info": {
   "codemirror_mode": {
    "name": "ipython",
    "version": 3
   },
   "file_extension": ".py",
   "mimetype": "text/x-python",
   "name": "python",
   "nbconvert_exporter": "python",
   "pygments_lexer": "ipython3",
   "version": "3.10.11"
  }
 },
 "nbformat": 4,
 "nbformat_minor": 2
}
