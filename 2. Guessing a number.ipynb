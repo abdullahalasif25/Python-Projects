{
 "cells": [
  {
   "cell_type": "markdown",
   "metadata": {},
   "source": [
    "# **Number Guessing Game**\n",
    "\n",
    "*Implements loops, conditionals and random modules*\n",
    "\n",
    "This is a simple game where the program randomly selects a number, and the user has to guess it. After each guess, the program provides feedback:\n",
    "\n",
    "* If the guess is too high, it tells the user to guess lower.\n",
    "\n",
    "* If the guess is too low, it tells the user to guess higher.\n",
    "\n",
    "* The game continues until the user guesses correctly.\n",
    "\n",
    "The program should also keep track of the number of attempts and display it when the user wins.\n",
    "\n"
   ]
  },
  {
   "cell_type": "code",
   "execution_count": 6,
   "metadata": {},
   "outputs": [
    {
     "name": "stdout",
     "output_type": "stream",
     "text": [
      "Too Low, try again\n",
      "Too Low, try again\n",
      "Too Low, try again\n",
      "Too Low, try again\n",
      "Too High, try again\n",
      "Too High, try again\n",
      "Too High, try again\n",
      "Too High, try again\n",
      "Too High, try again\n",
      "Too High, try again\n",
      "Too High, try again\n",
      "Too Low, try again\n",
      "Too Low, try again\n",
      "Too Low, try again\n",
      "You have guess the correct random number 102\n"
     ]
    }
   ],
   "source": [
    "import random\n",
    "def guess(x):\n",
    "    random_number=random.randint(1,x)\n",
    "    guess=0\n",
    "    while guess!=random_number:\n",
    "        guess=int(input(f\"Guess a number between 1 and {x}: \"))\n",
    "        if guess< random_number:\n",
    "            print(\"Too Low, try again\")\n",
    "        elif guess>random_number:\n",
    "            print(\"Too High, try again\")\n",
    "\n",
    "    print(f\"You have guess the correct random number {random_number}\")\n",
    "\n",
    "guess(200)"
   ]
  }
 ],
 "metadata": {
  "kernelspec": {
   "display_name": "Python 3",
   "language": "python",
   "name": "python3"
  },
  "language_info": {
   "codemirror_mode": {
    "name": "ipython",
    "version": 3
   },
   "file_extension": ".py",
   "mimetype": "text/x-python",
   "name": "python",
   "nbconvert_exporter": "python",
   "pygments_lexer": "ipython3",
   "version": "3.10.11"
  }
 },
 "nbformat": 4,
 "nbformat_minor": 2
}
