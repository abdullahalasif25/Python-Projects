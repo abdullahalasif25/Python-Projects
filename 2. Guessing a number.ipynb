{
 "cells": [
  {
   "cell_type": "markdown",
   "metadata": {},
   "source": [
    "### Normal code"
   ]
  },
  {
   "cell_type": "code",
   "execution_count": 1,
   "metadata": {},
   "outputs": [
    {
     "name": "stdout",
     "output_type": "stream",
     "text": [
      "Too high\n",
      "Too high\n",
      "Too high\n",
      "Too high\n",
      "Too high\n",
      "Too high\n",
      "You are right!\n"
     ]
    }
   ],
   "source": [
    "import random\n",
    "a = int(input(\"Enter a number: \"))\n",
    "b = random.randint(1, a)\n",
    "c= int(input(\"Try a number: \"))\n",
    "while c!=b:\n",
    "    if c>b:\n",
    "        print(\"Too high\")\n",
    "    else:\n",
    "        print(\"Too low\")\n",
    "    c= int(input(\"Try a number: \"))\n",
    "\n",
    "print(\"You are right!\")\n"
   ]
  },
  {
   "cell_type": "markdown",
   "metadata": {},
   "source": [
    "### Using a function"
   ]
  },
  {
   "cell_type": "code",
   "execution_count": 5,
   "metadata": {},
   "outputs": [
    {
     "name": "stdout",
     "output_type": "stream",
     "text": [
      "Too High, try again\n",
      "Too Low, try again\n",
      "Too Low, try again\n",
      "Too High, try again\n",
      "Too High, try again\n",
      "Too High, try again\n",
      "Too High, try again\n",
      "Too High, try again\n",
      "Too High, try again\n",
      "Too High, try again\n",
      "Too Low, try again\n",
      "Too Low, try again\n",
      "You have guess the correct random number 26\n"
     ]
    }
   ],
   "source": [
    "import random\n",
    "def guess(x):\n",
    "    random_number=random.randint(1,x)\n",
    "    guess=0\n",
    "    while guess!=random_number:\n",
    "        guess=int(input(f\"Guess a number between 1 and {x}: \"))\n",
    "        if guess< random_number:\n",
    "            print(\"Too Low, try again\")\n",
    "        elif guess>random_number:\n",
    "            print(\"Too High, try again\")\n",
    "\n",
    "    print(f\"You have guess the correct random number {random_number}\")\n",
    "\n",
    "guess(200)"
   ]
  }
 ],
 "metadata": {
  "kernelspec": {
   "display_name": "Python 3",
   "language": "python",
   "name": "python3"
  },
  "language_info": {
   "codemirror_mode": {
    "name": "ipython",
    "version": 3
   },
   "file_extension": ".py",
   "mimetype": "text/x-python",
   "name": "python",
   "nbconvert_exporter": "python",
   "pygments_lexer": "ipython3",
   "version": "3.10.11"
  }
 },
 "nbformat": 4,
 "nbformat_minor": 2
}
